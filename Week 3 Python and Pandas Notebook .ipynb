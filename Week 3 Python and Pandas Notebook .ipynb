{
 "cells": [
  {
   "cell_type": "code",
   "execution_count": 2,
   "metadata": {},
   "outputs": [],
   "source": [
    "import pandas as pd"
   ]
  },
  {
   "cell_type": "markdown",
   "metadata": {},
   "source": [
    "### Series \n",
    "The basic pandas object is a Series. We can create a series from a list, like this:"
   ]
  },
  {
   "cell_type": "code",
   "execution_count": 3,
   "metadata": {},
   "outputs": [],
   "source": [
    "s = pd.Series([1, 3, 5, 7, 9, 11])"
   ]
  },
  {
   "cell_type": "markdown",
   "metadata": {},
   "source": [
    "Now look at the series content:"
   ]
  },
  {
   "cell_type": "code",
   "execution_count": 4,
   "metadata": {},
   "outputs": [
    {
     "data": {
      "text/plain": [
       "0     1\n",
       "1     3\n",
       "2     5\n",
       "3     7\n",
       "4     9\n",
       "5    11\n",
       "dtype: int64"
      ]
     },
     "execution_count": 4,
     "metadata": {},
     "output_type": "execute_result"
    }
   ],
   "source": [
    "s"
   ]
  },
  {
   "cell_type": "code",
   "execution_count": 5,
   "metadata": {},
   "outputs": [
    {
     "name": "stdout",
     "output_type": "stream",
     "text": [
      "36\n",
      "6.0\n",
      "6.0\n"
     ]
    }
   ],
   "source": [
    "print(s.sum())\n",
    "print(s.mean())\n",
    "print(s.median())"
   ]
  },
  {
   "cell_type": "markdown",
   "metadata": {},
   "source": [
    "Artithmetic Operations"
   ]
  },
  {
   "cell_type": "code",
   "execution_count": 6,
   "metadata": {},
   "outputs": [
    {
     "data": {
      "text/plain": [
       "0     2\n",
       "1     4\n",
       "2     6\n",
       "3     8\n",
       "4    10\n",
       "5    12\n",
       "dtype: int64"
      ]
     },
     "execution_count": 6,
     "metadata": {},
     "output_type": "execute_result"
    }
   ],
   "source": [
    "s + 1"
   ]
  },
  {
   "cell_type": "code",
   "execution_count": 7,
   "metadata": {},
   "outputs": [],
   "source": [
    "import random"
   ]
  },
  {
   "cell_type": "code",
   "execution_count": 8,
   "metadata": {},
   "outputs": [
    {
     "name": "stdout",
     "output_type": "stream",
     "text": [
      "0.9926379688143271\n"
     ]
    }
   ],
   "source": [
    "print(random.random())"
   ]
  },
  {
   "cell_type": "code",
   "execution_count": 9,
   "metadata": {},
   "outputs": [
    {
     "data": {
      "text/plain": [
       "1.1495269649604476"
      ]
     },
     "execution_count": 9,
     "metadata": {},
     "output_type": "execute_result"
    }
   ],
   "source": [
    "random.normalvariate(0, 1) # mean 0 and std 1 "
   ]
  },
  {
   "cell_type": "markdown",
   "metadata": {},
   "source": [
    "Squaring the original series and add some random noise. "
   ]
  },
  {
   "cell_type": "code",
   "execution_count": 11,
   "metadata": {},
   "outputs": [
    {
     "data": {
      "text/plain": [
       "0     1\n",
       "1     3\n",
       "2     5\n",
       "3     7\n",
       "4     9\n",
       "5    11\n",
       "dtype: int64"
      ]
     },
     "execution_count": 11,
     "metadata": {},
     "output_type": "execute_result"
    }
   ],
   "source": [
    "# original Series.\n",
    "s"
   ]
  },
  {
   "cell_type": "code",
   "execution_count": 12,
   "metadata": {},
   "outputs": [
    {
     "name": "stdout",
     "output_type": "stream",
     "text": [
      "0     -0.001596\n",
      "1      8.061905\n",
      "2     24.220259\n",
      "3     48.571966\n",
      "4     82.057079\n",
      "5    119.277912\n",
      "dtype: float64\n"
     ]
    }
   ],
   "source": [
    "s2 = pd.Series([x*x + random.normalvariate(0, 1) for x in s])\n",
    "print(s2)"
   ]
  },
  {
   "cell_type": "markdown",
   "metadata": {},
   "source": [
    "### Time Series"
   ]
  },
  {
   "cell_type": "markdown",
   "metadata": {},
   "source": [
    "Pandas was designed with financial analysis in mind. It has great time series functionality. Can index a Series on anything we want. Including datetime objects. "
   ]
  },
  {
   "cell_type": "code",
   "execution_count": 14,
   "metadata": {},
   "outputs": [],
   "source": [
    "import datetime as dt"
   ]
  },
  {
   "cell_type": "markdown",
   "metadata": {},
   "source": [
    "We want monthly time series. First we need to create a list of datetime objects representing the beginning of every month, to use as our index:"
   ]
  },
  {
   "cell_type": "code",
   "execution_count": 23,
   "metadata": {},
   "outputs": [],
   "source": [
    "months = [dt.datetime(2001, x, 1) for x in range(1,13)]"
   ]
  },
  {
   "cell_type": "code",
   "execution_count": 24,
   "metadata": {},
   "outputs": [
    {
     "data": {
      "text/plain": [
       "[datetime.datetime(2001, 1, 1, 0, 0),\n",
       " datetime.datetime(2001, 2, 1, 0, 0),\n",
       " datetime.datetime(2001, 3, 1, 0, 0),\n",
       " datetime.datetime(2001, 4, 1, 0, 0),\n",
       " datetime.datetime(2001, 5, 1, 0, 0),\n",
       " datetime.datetime(2001, 6, 1, 0, 0),\n",
       " datetime.datetime(2001, 7, 1, 0, 0),\n",
       " datetime.datetime(2001, 8, 1, 0, 0),\n",
       " datetime.datetime(2001, 9, 1, 0, 0),\n",
       " datetime.datetime(2001, 10, 1, 0, 0),\n",
       " datetime.datetime(2001, 11, 1, 0, 0),\n",
       " datetime.datetime(2001, 12, 1, 0, 0)]"
      ]
     },
     "execution_count": 24,
     "metadata": {},
     "output_type": "execute_result"
    }
   ],
   "source": [
    "months"
   ]
  },
  {
   "cell_type": "code",
   "execution_count": 20,
   "metadata": {},
   "outputs": [],
   "source": [
    "#time_series = {}\n",
    "#for date in months:\n",
    "    #time_series[date] = random.normalvariate(0,1)"
   ]
  },
  {
   "cell_type": "code",
   "execution_count": 28,
   "metadata": {},
   "outputs": [],
   "source": [
    "# This a dictionary comprehension. \n",
    "time_series = {date: random.normalvariate(0,1) for date in months}\n",
    "\n",
    "\n"
   ]
  },
  {
   "cell_type": "markdown",
   "metadata": {},
   "source": [
    "This makes a dictionary with keys and values. Now turn it into a pandas series. "
   ]
  },
  {
   "cell_type": "raw",
   "metadata": {},
   "source": [
    "time_series = pd.Series(time_series)"
   ]
  },
  {
   "cell_type": "code",
   "execution_count": 27,
   "metadata": {},
   "outputs": [
    {
     "data": {
      "text/plain": [
       "{datetime.datetime(2001, 1, 1, 0, 0): 0.8196296012389975,\n",
       " datetime.datetime(2001, 2, 1, 0, 0): 0.988958909536308,\n",
       " datetime.datetime(2001, 3, 1, 0, 0): 0.9363811534169826,\n",
       " datetime.datetime(2001, 4, 1, 0, 0): -0.34705563226883956,\n",
       " datetime.datetime(2001, 5, 1, 0, 0): -1.0676937998710025,\n",
       " datetime.datetime(2001, 6, 1, 0, 0): -0.367565050441145,\n",
       " datetime.datetime(2001, 7, 1, 0, 0): 1.3724444302091987,\n",
       " datetime.datetime(2001, 8, 1, 0, 0): -0.5777400150792236,\n",
       " datetime.datetime(2001, 9, 1, 0, 0): -0.3280966400412788,\n",
       " datetime.datetime(2001, 10, 1, 0, 0): -1.1772228143818158,\n",
       " datetime.datetime(2001, 11, 1, 0, 0): -1.624144214828693,\n",
       " datetime.datetime(2001, 12, 1, 0, 0): -1.7610844837374144}"
      ]
     },
     "execution_count": 27,
     "metadata": {},
     "output_type": "execute_result"
    }
   ],
   "source": [
    "time_series"
   ]
  },
  {
   "cell_type": "markdown",
   "metadata": {},
   "source": [
    "Another useful bit of series functionality. Handy for time series. The cumsum()\n",
    "function returns a new series. Where each value is the cumulative sum of all the previous values. If we wanted to turn our random numbers into a random walk, we could do:"
   ]
  },
  {
   "cell_type": "code",
   "execution_count": 29,
   "metadata": {},
   "outputs": [
    {
     "name": "stdout",
     "output_type": "stream",
     "text": [
      "2001-01-01   -1.223377\n",
      "2001-02-01   -3.320178\n",
      "2001-03-01   -3.236725\n",
      "2001-04-01   -3.892701\n",
      "2001-05-01   -3.738472\n",
      "2001-06-01   -5.833752\n",
      "2001-07-01   -5.023867\n",
      "2001-08-01   -5.084182\n",
      "2001-09-01   -4.376390\n",
      "2001-10-01   -2.491059\n",
      "2001-11-01   -3.554234\n",
      "2001-12-01   -3.565023\n",
      "dtype: float64\n"
     ]
    }
   ],
   "source": [
    "import pandas as pd\n",
    "import datetime as dt\n",
    "import random\n",
    "\n",
    "months = [dt.datetime(2001, x, 1) for x in range(1,13)]\n",
    "\n",
    "time_series = {date: random.normalvariate(0,1) for date in months}\n",
    "\n",
    "time_series = pd.Series(time_series)\n",
    "\n",
    "time_series_total = time_series.cumsum()\n",
    "print(time_series_total)"
   ]
  },
  {
   "cell_type": "code",
   "execution_count": 32,
   "metadata": {},
   "outputs": [],
   "source": [
    "%matplotlib inline"
   ]
  },
  {
   "cell_type": "markdown",
   "metadata": {},
   "source": [
    "Next, we use pandas series' built-in *plot()* method to create the chart:"
   ]
  },
  {
   "cell_type": "code",
   "execution_count": 33,
   "metadata": {},
   "outputs": [
    {
     "data": {
      "text/plain": [
       "<matplotlib.axes._subplots.AxesSubplot at 0x180af6eea58>"
      ]
     },
     "execution_count": 33,
     "metadata": {},
     "output_type": "execute_result"
    },
    {
     "data": {
      "image/png": "[encoded data removed]",
      "text/plain": [
       "<Figure size 432x288 with 1 Axes>"
      ]
     },
     "metadata": {
      "needs_background": "light"
     },
     "output_type": "display_data"
    }
   ],
   "source": [
    "time_series_total.plot()"
   ]
  },
  {
   "cell_type": "markdown",
   "metadata": {},
   "source": [
    "Instead of making a range of dates by hand, we can have pandas do it for us using the date_range() function, as follows:"
   ]
  },
  {
   "cell_type": "code",
   "execution_count": 35,
   "metadata": {},
   "outputs": [],
   "source": [
    "dates = pd.date_range('1/1/2000', periods=120, freq='M')"
   ]
  },
  {
   "cell_type": "code",
   "execution_count": 36,
   "metadata": {},
   "outputs": [
    {
     "data": {
      "text/plain": [
       "DatetimeIndex(['2000-01-31', '2000-02-29', '2000-03-31', '2000-04-30',\n",
       "               '2000-05-31', '2000-06-30', '2000-07-31', '2000-08-31',\n",
       "               '2000-09-30', '2000-10-31',\n",
       "               ...\n",
       "               '2009-03-31', '2009-04-30', '2009-05-31', '2009-06-30',\n",
       "               '2009-07-31', '2009-08-31', '2009-09-30', '2009-10-31',\n",
       "               '2009-11-30', '2009-12-31'],\n",
       "              dtype='datetime64[ns]', length=120, freq='M')"
      ]
     },
     "execution_count": 36,
     "metadata": {},
     "output_type": "execute_result"
    }
   ],
   "source": [
    "dates"
   ]
  },
  {
   "cell_type": "markdown",
   "metadata": {},
   "source": [
    "Create two new random walks:"
   ]
  },
  {
   "cell_type": "code",
   "execution_count": 37,
   "metadata": {},
   "outputs": [],
   "source": [
    "\n",
    "\n",
    "ts1 = pd.Series([random.normalvariate(0,1) for x in range(120)], index=dates)\n",
    "ts2 = pd.Series([random.normalvariate(0,1) for x in range(120)], index=dates)\n",
    "\n",
    "ts1 = ts1.cumsum()\n",
    "ts2 = ts2.cumsum()"
   ]
  },
  {
   "cell_type": "markdown",
   "metadata": {},
   "source": [
    "We can view the first or last few entries in a series using the head() or tail() functions:"
   ]
  },
  {
   "cell_type": "code",
   "execution_count": 38,
   "metadata": {},
   "outputs": [
    {
     "data": {
      "text/plain": [
       "2000-01-31   -1.203027\n",
       "2000-02-29   -1.487181\n",
       "2000-03-31   -1.537122\n",
       "2000-04-30   -1.641922\n",
       "2000-05-31   -2.096089\n",
       "Freq: M, dtype: float64"
      ]
     },
     "execution_count": 38,
     "metadata": {},
     "output_type": "execute_result"
    }
   ],
   "source": [
    "ts1.head() # First 5 entries. "
   ]
  },
  {
   "cell_type": "code",
   "execution_count": 39,
   "metadata": {},
   "outputs": [
    {
     "data": {
      "text/plain": [
       "2009-08-31    10.391023\n",
       "2009-09-30    10.692968\n",
       "2009-10-31    10.129703\n",
       "2009-11-30     9.515536\n",
       "2009-12-31     9.555403\n",
       "Freq: M, dtype: float64"
      ]
     },
     "execution_count": 39,
     "metadata": {},
     "output_type": "execute_result"
    }
   ],
   "source": [
    "# last five entries.\n",
    "ts2.tail()"
   ]
  },
  {
   "cell_type": "code",
   "execution_count": 40,
   "metadata": {},
   "outputs": [
    {
     "data": {
      "text/plain": [
       "0.9714081606034173"
      ]
     },
     "execution_count": 40,
     "metadata": {},
     "output_type": "execute_result"
    }
   ],
   "source": [
    "# Built in corr function. \n",
    "ts1.autocorr()"
   ]
  },
  {
   "cell_type": "code",
   "execution_count": null,
   "metadata": {},
   "outputs": [],
   "source": []
  }
 ],
 "metadata": {
  "kernelspec": {
   "display_name": "Python 3",
   "language": "python",
   "name": "python3"
  },
  "language_info": {
   "codemirror_mode": {
    "name": "ipython",
    "version": 3
   },
   "file_extension": ".py",
   "mimetype": "text/x-python",
   "name": "python",
   "nbconvert_exporter": "python",
   "pygments_lexer": "ipython3",
   "version": "3.7.3"
  }
 },
 "nbformat": 4,
 "nbformat_minor": 2
}
