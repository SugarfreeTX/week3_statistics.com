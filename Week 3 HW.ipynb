{
 "cells": [
  {
   "cell_type": "markdown",
   "metadata": {},
   "source": [
    "# Week 3 Homework: Working with Pandas\n",
    "\n",
    "Create a new IPython Notebook (or copy this one) and use it to answer the following assignments, using what you've learned this week. Note that the last sections for each are meant to be a little more challenging."
   ]
  },
  {
   "cell_type": "markdown",
   "metadata": {},
   "source": [
    "## Question 1\n",
    "\n",
    "Load the MovieData.csv dataset into a pandas DataFrame as described in this week's lesson, and use it to find the following values:\n",
    "\n",
    "a. What is the median profit of movies with budgets of over $50M?\n",
    "\n",
    "b. How many movies were released by each film distributor? Output the results to a csv file.\n",
    "\n",
    "c. What are the mean and median movie profits by decade? Which decade was the most profitable? (Hint: Answering this question requires several steps: grouping the movies by decade, computing the mean and median profits for each decade, and combining the results back together.)"
   ]
  },
  {
   "cell_type": "markdown",
   "metadata": {},
   "source": [
    "## Question 2\n",
    "\n",
    "Load the earthquake data in QuakeData.csv into a DataFrame, and use it to answer the following questions:\n",
    "\n",
    "a. What is the median earthquake magnitude?\n",
    "\n",
    "b. What is the correlation between magnitude and depth?\n",
    "\n",
    "c. What fraction (not count) of earthquakes happen each month, across all years (i.e. all earthquakes occurring in January as a proportion of the grand total, all earthquakes in February as a proportion of the grand total, etc.)?\n",
    "\n",
    "d. Is there correlation between the number of movies released monthly (i.e. Jan-1990, Feb-1990... ) , and the number of earthquakes in that month?"
   ]
  },
  {
   "cell_type": "markdown",
   "metadata": {},
   "source": [
    "## Question 1\n",
    "### a)"
   ]
  },
  {
   "cell_type": "code",
   "execution_count": 1,
   "metadata": {},
   "outputs": [],
   "source": [
    "import pandas as pd \n",
    "import datetime as dt"
   ]
  },
  {
   "cell_type": "code",
   "execution_count": 2,
   "metadata": {},
   "outputs": [],
   "source": [
    "movies = pd.read_csv('moviedata.csv', sep='\\t')"
   ]
  },
  {
   "cell_type": "code",
   "execution_count": 3,
   "metadata": {},
   "outputs": [
    {
     "data": {
      "text/html": [
       "<div>\n",
       "<style scoped>\n",
       "    .dataframe tbody tr th:only-of-type {\n",
       "        vertical-align: middle;\n",
       "    }\n",
       "\n",
       "    .dataframe tbody tr th {\n",
       "        vertical-align: top;\n",
       "    }\n",
       "\n",
       "    .dataframe thead th {\n",
       "        text-align: right;\n",
       "    }\n",
       "</style>\n",
       "<table border=\"1\" class=\"dataframe\">\n",
       "  <thead>\n",
       "    <tr style=\"text-align: right;\">\n",
       "      <th></th>\n",
       "      <th>Release_Date</th>\n",
       "      <th>Movie</th>\n",
       "      <th>Distributor</th>\n",
       "      <th>Budget</th>\n",
       "      <th>US Gross</th>\n",
       "      <th>Worldwide Gross</th>\n",
       "    </tr>\n",
       "  </thead>\n",
       "  <tbody>\n",
       "    <tr>\n",
       "      <th>0</th>\n",
       "      <td>03/09/12</td>\n",
       "      <td>John Carter</td>\n",
       "      <td>NaN</td>\n",
       "      <td>300000000</td>\n",
       "      <td>66439100</td>\n",
       "      <td>254439100</td>\n",
       "    </tr>\n",
       "    <tr>\n",
       "      <th>1</th>\n",
       "      <td>05/25/07</td>\n",
       "      <td>Pirates of the Caribbean: At World's End</td>\n",
       "      <td>Buena Vista</td>\n",
       "      <td>300000000</td>\n",
       "      <td>309420425</td>\n",
       "      <td>960996492</td>\n",
       "    </tr>\n",
       "    <tr>\n",
       "      <th>2</th>\n",
       "      <td>12/13/13</td>\n",
       "      <td>The Hobbit: There and Back Again</td>\n",
       "      <td>New Line</td>\n",
       "      <td>270000000</td>\n",
       "      <td>Unknown</td>\n",
       "      <td>Unknown</td>\n",
       "    </tr>\n",
       "    <tr>\n",
       "      <th>3</th>\n",
       "      <td>12/14/12</td>\n",
       "      <td>The Hobbit: An Unexpected Journey</td>\n",
       "      <td>New Line</td>\n",
       "      <td>270000000</td>\n",
       "      <td>Unknown</td>\n",
       "      <td>Unknown</td>\n",
       "    </tr>\n",
       "    <tr>\n",
       "      <th>4</th>\n",
       "      <td>11/24/10</td>\n",
       "      <td>Tangled</td>\n",
       "      <td>Buena Vista</td>\n",
       "      <td>260000000</td>\n",
       "      <td>200821936</td>\n",
       "      <td>586581936</td>\n",
       "    </tr>\n",
       "  </tbody>\n",
       "</table>\n",
       "</div>"
      ],
      "text/plain": [
       "  Release_Date                                     Movie  Distributor  \\\n",
       "0     03/09/12                               John Carter          NaN   \n",
       "1     05/25/07  Pirates of the Caribbean: At World's End  Buena Vista   \n",
       "2     12/13/13          The Hobbit: There and Back Again     New Line   \n",
       "3     12/14/12         The Hobbit: An Unexpected Journey     New Line   \n",
       "4     11/24/10                                   Tangled  Buena Vista   \n",
       "\n",
       "      Budget   US Gross Worldwide Gross  \n",
       "0  300000000   66439100       254439100  \n",
       "1  300000000  309420425       960996492  \n",
       "2  270000000    Unknown         Unknown  \n",
       "3  270000000    Unknown         Unknown  \n",
       "4  260000000  200821936       586581936  "
      ]
     },
     "execution_count": 3,
     "metadata": {},
     "output_type": "execute_result"
    }
   ],
   "source": [
    "movies.head()"
   ]
  },
  {
   "cell_type": "code",
   "execution_count": 4,
   "metadata": {},
   "outputs": [
    {
     "name": "stdout",
     "output_type": "stream",
     "text": [
      "<class 'pandas.core.frame.DataFrame'>\n",
      "RangeIndex: 3627 entries, 0 to 3626\n",
      "Data columns (total 6 columns):\n",
      "Release_Date       3627 non-null object\n",
      "Movie              3627 non-null object\n",
      "Distributor        2968 non-null object\n",
      "Budget             3627 non-null int64\n",
      "US Gross           3627 non-null object\n",
      "Worldwide Gross    3627 non-null object\n",
      "dtypes: int64(1), object(5)\n",
      "memory usage: 170.1+ KB\n"
     ]
    }
   ],
   "source": [
    "movies.info()"
   ]
  },
  {
   "cell_type": "code",
   "execution_count": 5,
   "metadata": {},
   "outputs": [
    {
     "data": {
      "text/plain": [
       "Release_Date       object\n",
       "Movie              object\n",
       "Distributor        object\n",
       "Budget              int64\n",
       "US Gross           object\n",
       "Worldwide Gross    object\n",
       "dtype: object"
      ]
     },
     "execution_count": 5,
     "metadata": {},
     "output_type": "execute_result"
    }
   ],
   "source": [
    "movies.dtypes"
   ]
  },
  {
   "cell_type": "code",
   "execution_count": 6,
   "metadata": {},
   "outputs": [
    {
     "data": {
      "text/plain": [
       "array(['66439100', '309420425', 'Unknown', ..., '48482', '1338', '181041'],\n",
       "      dtype=object)"
      ]
     },
     "execution_count": 6,
     "metadata": {},
     "output_type": "execute_result"
    }
   ],
   "source": [
    "# US Gross and Worldwide Gross is supposed to be int. But showing as string.\n",
    "movies['US Gross'].unique()"
   ]
  },
  {
   "cell_type": "code",
   "execution_count": 7,
   "metadata": {},
   "outputs": [
    {
     "data": {
      "text/plain": [
       "array(['254439100', '960996492', 'Unknown', ..., '71644', '240495',\n",
       "       'Unkno'], dtype=object)"
      ]
     },
     "execution_count": 7,
     "metadata": {},
     "output_type": "execute_result"
    }
   ],
   "source": [
    "movies['Worldwide Gross'].unique()"
   ]
  },
  {
   "cell_type": "code",
   "execution_count": 8,
   "metadata": {},
   "outputs": [],
   "source": [
    "movies = pd.read_csv('moviedata.csv', sep = '\\t', na_values=['Unknown', 'Unkno'])"
   ]
  },
  {
   "cell_type": "code",
   "execution_count": 9,
   "metadata": {},
   "outputs": [
    {
     "data": {
      "text/plain": [
       "Release_Date        object\n",
       "Movie               object\n",
       "Distributor         object\n",
       "Budget               int64\n",
       "US Gross           float64\n",
       "Worldwide Gross    float64\n",
       "dtype: object"
      ]
     },
     "execution_count": 9,
     "metadata": {},
     "output_type": "execute_result"
    }
   ],
   "source": [
    "movies.dtypes"
   ]
  },
  {
   "cell_type": "code",
   "execution_count": 10,
   "metadata": {},
   "outputs": [],
   "source": [
    "# Cool, now it's showing correctly. "
   ]
  },
  {
   "cell_type": "code",
   "execution_count": 11,
   "metadata": {},
   "outputs": [],
   "source": [
    "# Now we need to parse the dates using pandas parse_dates parameter.\n",
    "movies = pd.read_csv('moviedata.csv', sep = '\\t', na_values=['Unknown', 'Unkno'], \n",
    "                    parse_dates=[0])"
   ]
  },
  {
   "cell_type": "code",
   "execution_count": 12,
   "metadata": {},
   "outputs": [
    {
     "name": "stdout",
     "output_type": "stream",
     "text": [
      "2068-12-11 00:00:00\n",
      "1969-01-01 00:00:00\n"
     ]
    }
   ],
   "source": [
    "print(movies['Release_Date'].max())\n",
    "print(movies['Release_Date'].min())"
   ]
  },
  {
   "cell_type": "code",
   "execution_count": 13,
   "metadata": {},
   "outputs": [],
   "source": [
    "# Need to convert date time datetime object.\n",
    "# Something off about the date.\n",
    "# I'll create a function to convert to correct century. \n",
    "\n",
    "def make_date(date_str):\n",
    "    \"\"\"\n",
    "    Turn a mm/dd/yy string into a datetime object\"\"\"\n",
    "    m, d, y = date_str.split(\"/\")\n",
    "    m = int(m)\n",
    "    d = int(d)\n",
    "    y = int(y)\n",
    "    if y > 13:\n",
    "        y += 1900\n",
    "    else: \n",
    "        y += 2000\n",
    "    return dt.datetime(y, m, d)"
   ]
  },
  {
   "cell_type": "code",
   "execution_count": 14,
   "metadata": {},
   "outputs": [],
   "source": [
    "movies = pd.read_csv('moviedata.csv', sep='\\t', na_values = ['Unkno', 'Unknown'], \n",
    "                    parse_dates=[0], date_parser=make_date)"
   ]
  },
  {
   "cell_type": "code",
   "execution_count": 15,
   "metadata": {},
   "outputs": [
    {
     "name": "stdout",
     "output_type": "stream",
     "text": [
      "2013-12-13 00:00:00\n",
      "1915-02-08 00:00:00\n"
     ]
    }
   ],
   "source": [
    "print(movies['Release_Date'].max())\n",
    "print(movies['Release_Date'].min())"
   ]
  },
  {
   "cell_type": "code",
   "execution_count": 16,
   "metadata": {},
   "outputs": [
    {
     "data": {
      "text/html": [
       "<div>\n",
       "<style scoped>\n",
       "    .dataframe tbody tr th:only-of-type {\n",
       "        vertical-align: middle;\n",
       "    }\n",
       "\n",
       "    .dataframe tbody tr th {\n",
       "        vertical-align: top;\n",
       "    }\n",
       "\n",
       "    .dataframe thead th {\n",
       "        text-align: right;\n",
       "    }\n",
       "</style>\n",
       "<table border=\"1\" class=\"dataframe\">\n",
       "  <thead>\n",
       "    <tr style=\"text-align: right;\">\n",
       "      <th></th>\n",
       "      <th>Release_Date</th>\n",
       "      <th>Movie</th>\n",
       "      <th>Distributor</th>\n",
       "      <th>Budget</th>\n",
       "      <th>US Gross</th>\n",
       "      <th>Worldwide Gross</th>\n",
       "    </tr>\n",
       "  </thead>\n",
       "  <tbody>\n",
       "    <tr>\n",
       "      <th>0</th>\n",
       "      <td>2012-03-09</td>\n",
       "      <td>John Carter</td>\n",
       "      <td>NaN</td>\n",
       "      <td>300000000</td>\n",
       "      <td>66439100.0</td>\n",
       "      <td>254439100.0</td>\n",
       "    </tr>\n",
       "    <tr>\n",
       "      <th>1</th>\n",
       "      <td>2007-05-25</td>\n",
       "      <td>Pirates of the Caribbean: At World's End</td>\n",
       "      <td>Buena Vista</td>\n",
       "      <td>300000000</td>\n",
       "      <td>309420425.0</td>\n",
       "      <td>960996492.0</td>\n",
       "    </tr>\n",
       "    <tr>\n",
       "      <th>2</th>\n",
       "      <td>2013-12-13</td>\n",
       "      <td>The Hobbit: There and Back Again</td>\n",
       "      <td>New Line</td>\n",
       "      <td>270000000</td>\n",
       "      <td>NaN</td>\n",
       "      <td>NaN</td>\n",
       "    </tr>\n",
       "    <tr>\n",
       "      <th>3</th>\n",
       "      <td>2012-12-14</td>\n",
       "      <td>The Hobbit: An Unexpected Journey</td>\n",
       "      <td>New Line</td>\n",
       "      <td>270000000</td>\n",
       "      <td>NaN</td>\n",
       "      <td>NaN</td>\n",
       "    </tr>\n",
       "    <tr>\n",
       "      <th>4</th>\n",
       "      <td>2010-11-24</td>\n",
       "      <td>Tangled</td>\n",
       "      <td>Buena Vista</td>\n",
       "      <td>260000000</td>\n",
       "      <td>200821936.0</td>\n",
       "      <td>586581936.0</td>\n",
       "    </tr>\n",
       "  </tbody>\n",
       "</table>\n",
       "</div>"
      ],
      "text/plain": [
       "  Release_Date                                     Movie  Distributor  \\\n",
       "0   2012-03-09                               John Carter          NaN   \n",
       "1   2007-05-25  Pirates of the Caribbean: At World's End  Buena Vista   \n",
       "2   2013-12-13          The Hobbit: There and Back Again     New Line   \n",
       "3   2012-12-14         The Hobbit: An Unexpected Journey     New Line   \n",
       "4   2010-11-24                                   Tangled  Buena Vista   \n",
       "\n",
       "      Budget     US Gross  Worldwide Gross  \n",
       "0  300000000   66439100.0      254439100.0  \n",
       "1  300000000  309420425.0      960996492.0  \n",
       "2  270000000          NaN              NaN  \n",
       "3  270000000          NaN              NaN  \n",
       "4  260000000  200821936.0      586581936.0  "
      ]
     },
     "execution_count": 16,
     "metadata": {},
     "output_type": "execute_result"
    }
   ],
   "source": [
    "movies.head()"
   ]
  },
  {
   "cell_type": "code",
   "execution_count": 17,
   "metadata": {},
   "outputs": [
    {
     "data": {
      "text/plain": [
       "0       False\n",
       "1       False\n",
       "2        True\n",
       "3        True\n",
       "4       False\n",
       "5       False\n",
       "6       False\n",
       "7       False\n",
       "8        True\n",
       "9       False\n",
       "10      False\n",
       "11      False\n",
       "12      False\n",
       "13      False\n",
       "14       True\n",
       "15       True\n",
       "16      False\n",
       "17      False\n",
       "18      False\n",
       "19      False\n",
       "20      False\n",
       "21      False\n",
       "22      False\n",
       "23      False\n",
       "24      False\n",
       "25      False\n",
       "26      False\n",
       "27      False\n",
       "28      False\n",
       "29      False\n",
       "        ...  \n",
       "3597     True\n",
       "3598     True\n",
       "3599     True\n",
       "3600     True\n",
       "3601    False\n",
       "3602     True\n",
       "3603     True\n",
       "3604     True\n",
       "3605     True\n",
       "3606     True\n",
       "3607     True\n",
       "3608    False\n",
       "3609     True\n",
       "3610     True\n",
       "3611     True\n",
       "3612     True\n",
       "3613     True\n",
       "3614     True\n",
       "3615     True\n",
       "3616     True\n",
       "3617     True\n",
       "3618     True\n",
       "3619     True\n",
       "3620    False\n",
       "3621    False\n",
       "3622    False\n",
       "3623     True\n",
       "3624    False\n",
       "3625     True\n",
       "3626     True\n",
       "Name: Worldwide Gross, Length: 3627, dtype: bool"
      ]
     },
     "execution_count": 17,
     "metadata": {},
     "output_type": "execute_result"
    }
   ],
   "source": [
    "movies[\"Worldwide Gross\"].isnull()"
   ]
  },
  {
   "cell_type": "markdown",
   "metadata": {},
   "source": [
    "I see NaN values in the Worldwide Gross column and I need them to contain\n",
    "value. I will forward the value of the US Gross into the Worldwide Gross.\n",
    "Some movies may have not received Worldwide showings. First, I need to \n",
    "fill na values with 0. So that I can do subtraction to get the column I need.\n"
   ]
  },
  {
   "cell_type": "code",
   "execution_count": 18,
   "metadata": {},
   "outputs": [],
   "source": [
    "movies.fillna(0, inplace=True)"
   ]
  },
  {
   "cell_type": "code",
   "execution_count": 19,
   "metadata": {},
   "outputs": [
    {
     "data": {
      "text/html": [
       "<div>\n",
       "<style scoped>\n",
       "    .dataframe tbody tr th:only-of-type {\n",
       "        vertical-align: middle;\n",
       "    }\n",
       "\n",
       "    .dataframe tbody tr th {\n",
       "        vertical-align: top;\n",
       "    }\n",
       "\n",
       "    .dataframe thead th {\n",
       "        text-align: right;\n",
       "    }\n",
       "</style>\n",
       "<table border=\"1\" class=\"dataframe\">\n",
       "  <thead>\n",
       "    <tr style=\"text-align: right;\">\n",
       "      <th></th>\n",
       "      <th>Release_Date</th>\n",
       "      <th>Movie</th>\n",
       "      <th>Distributor</th>\n",
       "      <th>Budget</th>\n",
       "      <th>US Gross</th>\n",
       "      <th>Worldwide Gross</th>\n",
       "    </tr>\n",
       "  </thead>\n",
       "  <tbody>\n",
       "    <tr>\n",
       "      <th>0</th>\n",
       "      <td>2012-03-09</td>\n",
       "      <td>John Carter</td>\n",
       "      <td>0</td>\n",
       "      <td>300000000</td>\n",
       "      <td>66439100.0</td>\n",
       "      <td>254439100.0</td>\n",
       "    </tr>\n",
       "    <tr>\n",
       "      <th>1</th>\n",
       "      <td>2007-05-25</td>\n",
       "      <td>Pirates of the Caribbean: At World's End</td>\n",
       "      <td>Buena Vista</td>\n",
       "      <td>300000000</td>\n",
       "      <td>309420425.0</td>\n",
       "      <td>960996492.0</td>\n",
       "    </tr>\n",
       "    <tr>\n",
       "      <th>2</th>\n",
       "      <td>2013-12-13</td>\n",
       "      <td>The Hobbit: There and Back Again</td>\n",
       "      <td>New Line</td>\n",
       "      <td>270000000</td>\n",
       "      <td>0.0</td>\n",
       "      <td>0.0</td>\n",
       "    </tr>\n",
       "    <tr>\n",
       "      <th>3</th>\n",
       "      <td>2012-12-14</td>\n",
       "      <td>The Hobbit: An Unexpected Journey</td>\n",
       "      <td>New Line</td>\n",
       "      <td>270000000</td>\n",
       "      <td>0.0</td>\n",
       "      <td>0.0</td>\n",
       "    </tr>\n",
       "    <tr>\n",
       "      <th>4</th>\n",
       "      <td>2010-11-24</td>\n",
       "      <td>Tangled</td>\n",
       "      <td>Buena Vista</td>\n",
       "      <td>260000000</td>\n",
       "      <td>200821936.0</td>\n",
       "      <td>586581936.0</td>\n",
       "    </tr>\n",
       "  </tbody>\n",
       "</table>\n",
       "</div>"
      ],
      "text/plain": [
       "  Release_Date                                     Movie  Distributor  \\\n",
       "0   2012-03-09                               John Carter            0   \n",
       "1   2007-05-25  Pirates of the Caribbean: At World's End  Buena Vista   \n",
       "2   2013-12-13          The Hobbit: There and Back Again     New Line   \n",
       "3   2012-12-14         The Hobbit: An Unexpected Journey     New Line   \n",
       "4   2010-11-24                                   Tangled  Buena Vista   \n",
       "\n",
       "      Budget     US Gross  Worldwide Gross  \n",
       "0  300000000   66439100.0      254439100.0  \n",
       "1  300000000  309420425.0      960996492.0  \n",
       "2  270000000          0.0              0.0  \n",
       "3  270000000          0.0              0.0  \n",
       "4  260000000  200821936.0      586581936.0  "
      ]
     },
     "execution_count": 19,
     "metadata": {},
     "output_type": "execute_result"
    }
   ],
   "source": [
    "movies.head()"
   ]
  },
  {
   "cell_type": "code",
   "execution_count": 20,
   "metadata": {},
   "outputs": [
    {
     "name": "stderr",
     "output_type": "stream",
     "text": [
      "C:\\Users\\Khemra\\Anaconda3\\lib\\site-packages\\ipykernel_launcher.py:2: SettingWithCopyWarning: \n",
      "A value is trying to be set on a copy of a slice from a DataFrame\n",
      "\n",
      "See the caveats in the documentation: http://pandas.pydata.org/pandas-docs/stable/indexing.html#indexing-view-versus-copy\n",
      "  \n"
     ]
    }
   ],
   "source": [
    "# Forwards values from US Gross to Worldwide Gross where value is 0\n",
    "movies[\"Worldwide Gross\"][movies[\"Worldwide Gross\"]==0] = movies[\"US Gross\"]"
   ]
  },
  {
   "cell_type": "markdown",
   "metadata": {},
   "source": [
    "I want to add a profit column since that's what the question is asking. \n"
   ]
  },
  {
   "cell_type": "code",
   "execution_count": 21,
   "metadata": {},
   "outputs": [],
   "source": [
    "movies[\"Profit\"] = movies[\"Worldwide Gross\"] -  movies[\"Budget\"]"
   ]
  },
  {
   "cell_type": "code",
   "execution_count": 22,
   "metadata": {},
   "outputs": [
    {
     "data": {
      "text/html": [
       "<div>\n",
       "<style scoped>\n",
       "    .dataframe tbody tr th:only-of-type {\n",
       "        vertical-align: middle;\n",
       "    }\n",
       "\n",
       "    .dataframe tbody tr th {\n",
       "        vertical-align: top;\n",
       "    }\n",
       "\n",
       "    .dataframe thead th {\n",
       "        text-align: right;\n",
       "    }\n",
       "</style>\n",
       "<table border=\"1\" class=\"dataframe\">\n",
       "  <thead>\n",
       "    <tr style=\"text-align: right;\">\n",
       "      <th></th>\n",
       "      <th>Release_Date</th>\n",
       "      <th>Movie</th>\n",
       "      <th>Distributor</th>\n",
       "      <th>Budget</th>\n",
       "      <th>US Gross</th>\n",
       "      <th>Worldwide Gross</th>\n",
       "      <th>Profit</th>\n",
       "    </tr>\n",
       "  </thead>\n",
       "  <tbody>\n",
       "    <tr>\n",
       "      <th>0</th>\n",
       "      <td>2012-03-09</td>\n",
       "      <td>John Carter</td>\n",
       "      <td>0</td>\n",
       "      <td>300000000</td>\n",
       "      <td>66439100.0</td>\n",
       "      <td>254439100.0</td>\n",
       "      <td>-45560900.0</td>\n",
       "    </tr>\n",
       "    <tr>\n",
       "      <th>1</th>\n",
       "      <td>2007-05-25</td>\n",
       "      <td>Pirates of the Caribbean: At World's End</td>\n",
       "      <td>Buena Vista</td>\n",
       "      <td>300000000</td>\n",
       "      <td>309420425.0</td>\n",
       "      <td>960996492.0</td>\n",
       "      <td>660996492.0</td>\n",
       "    </tr>\n",
       "    <tr>\n",
       "      <th>2</th>\n",
       "      <td>2013-12-13</td>\n",
       "      <td>The Hobbit: There and Back Again</td>\n",
       "      <td>New Line</td>\n",
       "      <td>270000000</td>\n",
       "      <td>0.0</td>\n",
       "      <td>0.0</td>\n",
       "      <td>-270000000.0</td>\n",
       "    </tr>\n",
       "    <tr>\n",
       "      <th>3</th>\n",
       "      <td>2012-12-14</td>\n",
       "      <td>The Hobbit: An Unexpected Journey</td>\n",
       "      <td>New Line</td>\n",
       "      <td>270000000</td>\n",
       "      <td>0.0</td>\n",
       "      <td>0.0</td>\n",
       "      <td>-270000000.0</td>\n",
       "    </tr>\n",
       "    <tr>\n",
       "      <th>4</th>\n",
       "      <td>2010-11-24</td>\n",
       "      <td>Tangled</td>\n",
       "      <td>Buena Vista</td>\n",
       "      <td>260000000</td>\n",
       "      <td>200821936.0</td>\n",
       "      <td>586581936.0</td>\n",
       "      <td>326581936.0</td>\n",
       "    </tr>\n",
       "  </tbody>\n",
       "</table>\n",
       "</div>"
      ],
      "text/plain": [
       "  Release_Date                                     Movie  Distributor  \\\n",
       "0   2012-03-09                               John Carter            0   \n",
       "1   2007-05-25  Pirates of the Caribbean: At World's End  Buena Vista   \n",
       "2   2013-12-13          The Hobbit: There and Back Again     New Line   \n",
       "3   2012-12-14         The Hobbit: An Unexpected Journey     New Line   \n",
       "4   2010-11-24                                   Tangled  Buena Vista   \n",
       "\n",
       "      Budget     US Gross  Worldwide Gross       Profit  \n",
       "0  300000000   66439100.0      254439100.0  -45560900.0  \n",
       "1  300000000  309420425.0      960996492.0  660996492.0  \n",
       "2  270000000          0.0              0.0 -270000000.0  \n",
       "3  270000000          0.0              0.0 -270000000.0  \n",
       "4  260000000  200821936.0      586581936.0  326581936.0  "
      ]
     },
     "execution_count": 22,
     "metadata": {},
     "output_type": "execute_result"
    }
   ],
   "source": [
    "movies.head()"
   ]
  },
  {
   "cell_type": "markdown",
   "metadata": {},
   "source": [
    "movies.tail()"
   ]
  },
  {
   "cell_type": "code",
   "execution_count": 23,
   "metadata": {},
   "outputs": [],
   "source": [
    "# Data and values look correct. "
   ]
  },
  {
   "cell_type": "markdown",
   "metadata": {},
   "source": [
    "Now for the answer to the question. Anything greater than $50,000,000"
   ]
  },
  {
   "cell_type": "code",
   "execution_count": 24,
   "metadata": {},
   "outputs": [],
   "source": [
    "big_budget = movies[movies.Budget > 50000000]"
   ]
  },
  {
   "cell_type": "code",
   "execution_count": 25,
   "metadata": {},
   "outputs": [
    {
     "data": {
      "text/plain": [
       "89246220.0"
      ]
     },
     "execution_count": 25,
     "metadata": {},
     "output_type": "execute_result"
    }
   ],
   "source": [
    "big_budget.Profit.median()"
   ]
  },
  {
   "cell_type": "markdown",
   "metadata": {},
   "source": [
    "## b. How many movies were released by each film distributor? Output the results to a csv file."
   ]
  },
  {
   "cell_type": "markdown",
   "metadata": {},
   "source": [
    "To answer this question we use the groupby function. From what I understand, I think grouby in Pandas is simliar to a Dictionary in Python. "
   ]
  },
  {
   "cell_type": "code",
   "execution_count": 27,
   "metadata": {},
   "outputs": [],
   "source": [
    "distributors = movies.groupby(\"Distributor\").aggregate(len)\n",
    "distributor_count = distributors['Movie']"
   ]
  },
  {
   "cell_type": "code",
   "execution_count": 29,
   "metadata": {},
   "outputs": [
    {
     "data": {
      "text/plain": [
       "Distributor\n",
       "0                                  659\n",
       "20th Century Fox                   230\n",
       "3D Entertainment                     1\n",
       "8 X Entertainment                    1\n",
       "ART                                  1\n",
       "Access                               1\n",
       "Alliance                             4\n",
       "American International Pictures      1\n",
       "Anchor Bay                           4\n",
       "Apparition                           4\n",
       "Artisan                             23\n",
       "Artistic License                     1\n",
       "Atlantic                             1\n",
       "Attitude Films                       1\n",
       "Avatar                               1\n",
       "Avco Embassy                         5\n",
       "Barking Cow                          1\n",
       "Big Pictures                         1\n",
       "Bigger Picture                       1\n",
       "Black Diamond Pictures               1\n",
       "Buena Vista                        227\n",
       "CBS Films                            3\n",
       "CFP                                  1\n",
       "CHRIST                               1\n",
       "Cannon                               4\n",
       "Cinema Service                       1\n",
       "Cinema con Sabor                     1\n",
       "Cloud Ten Pictures                   1\n",
       "Columbia                            26\n",
       "Consolidated Pictures Group          1\n",
       "                                  ... \n",
       "Third Rail                           2\n",
       "TriStar Pictures                     4\n",
       "Trimark                              9\n",
       "Triumph                              1\n",
       "Truly Indie                          1\n",
       "USA Films                           15\n",
       "United Artists                      23\n",
       "United Film Distribution             2\n",
       "Universal                          261\n",
       "Universal/Arenas Entertainment       1\n",
       "Universal/Rogue                      1\n",
       "Videos                               1\n",
       "Vitagraph Films                      2\n",
       "Walt Disney Co.                      9\n",
       "Walt Disney Pictures                 1\n",
       "Warner Bros.                       311\n",
       "Warner Independent                   3\n",
       "Warner Independent Pictures          7\n",
       "Weinstein                            1\n",
       "Weinstein Ci.                        1\n",
       "Weinstein Co.                       33\n",
       "Weinstein/Dimension                  1\n",
       "Weintraub                            2\n",
       "WellSpring                           2\n",
       "Wellspring                           1\n",
       "WinStar                              1\n",
       "Winstar                              1\n",
       "Yash Raj                             1\n",
       "Zeitgeist                            7\n",
       "Zion                                 1\n",
       "Name: Movie, Length: 209, dtype: int64"
      ]
     },
     "execution_count": 29,
     "metadata": {},
     "output_type": "execute_result"
    }
   ],
   "source": [
    "# Using aggregate(len) is telling what function to use on each group. \n",
    "# instead of using the len() function. \n",
    "\n",
    "# Here is the Series. \n",
    "distributor_count"
   ]
  },
  {
   "cell_type": "markdown",
   "metadata": {},
   "source": [
    "Output to CSV file. "
   ]
  },
  {
   "cell_type": "code",
   "execution_count": 30,
   "metadata": {},
   "outputs": [
    {
     "name": "stderr",
     "output_type": "stream",
     "text": [
      "C:\\Users\\Khemra\\Anaconda3\\lib\\site-packages\\ipykernel_launcher.py:2: FutureWarning: The signature of `Series.to_csv` was aligned to that of `DataFrame.to_csv`, and argument 'header' will change its default value from False to True: please pass an explicit value to suppress this warning.\n",
      "  \n"
     ]
    }
   ],
   "source": [
    "# Pandas has a to_csv() method. \n",
    "distributor_count.to_csv(\"distributor__counts.csv\")"
   ]
  },
  {
   "cell_type": "markdown",
   "metadata": {},
   "source": [
    "## c. What are the mean and median movie profits by decade? Which decade was the most profitable? (Hint: Answering this question requires several steps: grouping the movies by decade, computing the mean and median profits for each decade, and combining the results back together.)"
   ]
  },
  {
   "cell_type": "markdown",
   "metadata": {},
   "source": [
    "Need to get the decade of each movie. I'll use division and subraction to get the decade. For example, 1969 % 10 = 9 then 1969 - 9 = 1960"
   ]
  },
  {
   "cell_type": "code",
   "execution_count": 31,
   "metadata": {},
   "outputs": [],
   "source": [
    "# Create a function to get the decade. \n",
    "def get_decade(date):\n",
    "    year = date.year\n",
    "    y = year % 10 # remainder of dividing by 10\n",
    "    return year - y"
   ]
  },
  {
   "cell_type": "markdown",
   "metadata": {},
   "source": [
    "Apply the function to the date column and put results into a new column. "
   ]
  },
  {
   "cell_type": "code",
   "execution_count": 32,
   "metadata": {},
   "outputs": [],
   "source": [
    "movies[\"Decade\"] = movies.Release_Date.apply(get_decade)"
   ]
  },
  {
   "cell_type": "markdown",
   "metadata": {},
   "source": [
    "Check to see if it's correct. "
   ]
  },
  {
   "cell_type": "code",
   "execution_count": 33,
   "metadata": {},
   "outputs": [
    {
     "data": {
      "text/html": [
       "<div>\n",
       "<style scoped>\n",
       "    .dataframe tbody tr th:only-of-type {\n",
       "        vertical-align: middle;\n",
       "    }\n",
       "\n",
       "    .dataframe tbody tr th {\n",
       "        vertical-align: top;\n",
       "    }\n",
       "\n",
       "    .dataframe thead th {\n",
       "        text-align: right;\n",
       "    }\n",
       "</style>\n",
       "<table border=\"1\" class=\"dataframe\">\n",
       "  <thead>\n",
       "    <tr style=\"text-align: right;\">\n",
       "      <th></th>\n",
       "      <th>Release_Date</th>\n",
       "      <th>Movie</th>\n",
       "      <th>Distributor</th>\n",
       "      <th>Budget</th>\n",
       "      <th>US Gross</th>\n",
       "      <th>Worldwide Gross</th>\n",
       "      <th>Profit</th>\n",
       "      <th>Decade</th>\n",
       "    </tr>\n",
       "  </thead>\n",
       "  <tbody>\n",
       "    <tr>\n",
       "      <th>3622</th>\n",
       "      <td>2006-05-26</td>\n",
       "      <td>Cavite</td>\n",
       "      <td>Truly Indie</td>\n",
       "      <td>7000</td>\n",
       "      <td>70071.0</td>\n",
       "      <td>71644.0</td>\n",
       "      <td>64644.0</td>\n",
       "      <td>2000</td>\n",
       "    </tr>\n",
       "    <tr>\n",
       "      <th>3623</th>\n",
       "      <td>2004-01-01</td>\n",
       "      <td>The Mongol King</td>\n",
       "      <td>CustomFlix</td>\n",
       "      <td>7000</td>\n",
       "      <td>900.0</td>\n",
       "      <td>900.0</td>\n",
       "      <td>-6100.0</td>\n",
       "      <td>2000</td>\n",
       "    </tr>\n",
       "    <tr>\n",
       "      <th>3624</th>\n",
       "      <td>1999-04-04</td>\n",
       "      <td>Following</td>\n",
       "      <td>Zeitgeist</td>\n",
       "      <td>6000</td>\n",
       "      <td>48482.0</td>\n",
       "      <td>240495.0</td>\n",
       "      <td>234495.0</td>\n",
       "      <td>1990</td>\n",
       "    </tr>\n",
       "    <tr>\n",
       "      <th>3625</th>\n",
       "      <td>2005-07-13</td>\n",
       "      <td>Return to the Land of Wonders</td>\n",
       "      <td>0</td>\n",
       "      <td>5000</td>\n",
       "      <td>1338.0</td>\n",
       "      <td>1338.0</td>\n",
       "      <td>-3662.0</td>\n",
       "      <td>2000</td>\n",
       "    </tr>\n",
       "    <tr>\n",
       "      <th>3626</th>\n",
       "      <td>2005-08-05</td>\n",
       "      <td>My Date With Drew</td>\n",
       "      <td>0</td>\n",
       "      <td>1100</td>\n",
       "      <td>181041.0</td>\n",
       "      <td>181041.0</td>\n",
       "      <td>179941.0</td>\n",
       "      <td>2000</td>\n",
       "    </tr>\n",
       "  </tbody>\n",
       "</table>\n",
       "</div>"
      ],
      "text/plain": [
       "     Release_Date                          Movie  Distributor  Budget  \\\n",
       "3622   2006-05-26                         Cavite  Truly Indie    7000   \n",
       "3623   2004-01-01                The Mongol King   CustomFlix    7000   \n",
       "3624   1999-04-04                      Following    Zeitgeist    6000   \n",
       "3625   2005-07-13  Return to the Land of Wonders            0    5000   \n",
       "3626   2005-08-05              My Date With Drew            0    1100   \n",
       "\n",
       "      US Gross  Worldwide Gross    Profit  Decade  \n",
       "3622   70071.0          71644.0   64644.0    2000  \n",
       "3623     900.0            900.0   -6100.0    2000  \n",
       "3624   48482.0         240495.0  234495.0    1990  \n",
       "3625    1338.0           1338.0   -3662.0    2000  \n",
       "3626  181041.0         181041.0  179941.0    2000  "
      ]
     },
     "execution_count": 33,
     "metadata": {},
     "output_type": "execute_result"
    }
   ],
   "source": [
    "movies.tail()"
   ]
  },
  {
   "cell_type": "code",
   "execution_count": 34,
   "metadata": {},
   "outputs": [],
   "source": [
    "# Now we create a grouping of the movies by the decades. \n",
    "by_decade = movies.groupby(\"Decade\")"
   ]
  },
  {
   "cell_type": "code",
   "execution_count": 35,
   "metadata": {},
   "outputs": [],
   "source": [
    "decade_mean_profit = by_decade['Profit'].mean()\n",
    "decade_med_profit = by_decade['Profit'].median()"
   ]
  },
  {
   "cell_type": "code",
   "execution_count": 37,
   "metadata": {},
   "outputs": [
    {
     "data": {
      "text/html": [
       "<div>\n",
       "<style scoped>\n",
       "    .dataframe tbody tr th:only-of-type {\n",
       "        vertical-align: middle;\n",
       "    }\n",
       "\n",
       "    .dataframe tbody tr th {\n",
       "        vertical-align: top;\n",
       "    }\n",
       "\n",
       "    .dataframe thead th {\n",
       "        text-align: right;\n",
       "    }\n",
       "</style>\n",
       "<table border=\"1\" class=\"dataframe\">\n",
       "  <thead>\n",
       "    <tr style=\"text-align: right;\">\n",
       "      <th></th>\n",
       "      <th>Mean Profit</th>\n",
       "      <th>Median Profit</th>\n",
       "    </tr>\n",
       "    <tr>\n",
       "      <th>Decade</th>\n",
       "      <th></th>\n",
       "      <th></th>\n",
       "    </tr>\n",
       "  </thead>\n",
       "  <tbody>\n",
       "    <tr>\n",
       "      <th>1910</th>\n",
       "      <td>6.101364e+06</td>\n",
       "      <td>7800000.0</td>\n",
       "    </tr>\n",
       "    <tr>\n",
       "      <th>1920</th>\n",
       "      <td>6.346800e+06</td>\n",
       "      <td>3979000.0</td>\n",
       "    </tr>\n",
       "    <tr>\n",
       "      <th>1930</th>\n",
       "      <td>3.892876e+07</td>\n",
       "      <td>2265500.0</td>\n",
       "    </tr>\n",
       "    <tr>\n",
       "      <th>1940</th>\n",
       "      <td>1.025301e+07</td>\n",
       "      <td>6012000.0</td>\n",
       "    </tr>\n",
       "    <tr>\n",
       "      <th>1950</th>\n",
       "      <td>1.816625e+07</td>\n",
       "      <td>8690000.0</td>\n",
       "    </tr>\n",
       "    <tr>\n",
       "      <th>1960</th>\n",
       "      <td>2.845890e+07</td>\n",
       "      <td>10564923.0</td>\n",
       "    </tr>\n",
       "    <tr>\n",
       "      <th>1970</th>\n",
       "      <td>6.358547e+07</td>\n",
       "      <td>19533200.0</td>\n",
       "    </tr>\n",
       "    <tr>\n",
       "      <th>1980</th>\n",
       "      <td>5.114162e+07</td>\n",
       "      <td>16168359.0</td>\n",
       "    </tr>\n",
       "    <tr>\n",
       "      <th>1990</th>\n",
       "      <td>5.751548e+07</td>\n",
       "      <td>9133087.0</td>\n",
       "    </tr>\n",
       "    <tr>\n",
       "      <th>2000</th>\n",
       "      <td>5.318013e+07</td>\n",
       "      <td>8762690.0</td>\n",
       "    </tr>\n",
       "    <tr>\n",
       "      <th>2010</th>\n",
       "      <td>6.331232e+07</td>\n",
       "      <td>8626300.0</td>\n",
       "    </tr>\n",
       "  </tbody>\n",
       "</table>\n",
       "</div>"
      ],
      "text/plain": [
       "         Mean Profit  Median Profit\n",
       "Decade                             \n",
       "1910    6.101364e+06      7800000.0\n",
       "1920    6.346800e+06      3979000.0\n",
       "1930    3.892876e+07      2265500.0\n",
       "1940    1.025301e+07      6012000.0\n",
       "1950    1.816625e+07      8690000.0\n",
       "1960    2.845890e+07     10564923.0\n",
       "1970    6.358547e+07     19533200.0\n",
       "1980    5.114162e+07     16168359.0\n",
       "1990    5.751548e+07      9133087.0\n",
       "2000    5.318013e+07      8762690.0\n",
       "2010    6.331232e+07      8626300.0"
      ]
     },
     "execution_count": 37,
     "metadata": {},
     "output_type": "execute_result"
    }
   ],
   "source": [
    "# Now we put these Series together into a new DF. \n",
    "decades = pd.DataFrame({\"Mean Profit\": decade_mean_profit, \"Median Profit\": decade_med_profit})\n",
    "decades"
   ]
  },
  {
   "cell_type": "markdown",
   "metadata": {},
   "source": [
    "# Question 2 "
   ]
  },
  {
   "cell_type": "markdown",
   "metadata": {},
   "source": [
    "Load the earthquake data in QuakeData.csv into a DataFrame, and use it to answer the following questions:\n",
    "\n",
    "a. What is the median earthquake magnitude?"
   ]
  },
  {
   "cell_type": "code",
   "execution_count": 39,
   "metadata": {},
   "outputs": [],
   "source": [
    "quakes = pd.read_csv(\"QuakeData.csv\", parse_dates=[0])"
   ]
  },
  {
   "cell_type": "code",
   "execution_count": 40,
   "metadata": {},
   "outputs": [
    {
     "data": {
      "text/plain": [
       "DateTime      datetime64[ns, UTC]\n",
       "Latitude                  float64\n",
       "Longitude                 float64\n",
       "Depth                     float64\n",
       "Magnitude                 float64\n",
       "MagType                    object\n",
       "NbStations                  int64\n",
       "Gap                         int64\n",
       "Distance                  float64\n",
       "RMS                       float64\n",
       "Source                     object\n",
       "EventID                    object\n",
       "Version                     int64\n",
       "dtype: object"
      ]
     },
     "execution_count": 40,
     "metadata": {},
     "output_type": "execute_result"
    }
   ],
   "source": [
    "quakes.dtypes"
   ]
  },
  {
   "cell_type": "code",
   "execution_count": 42,
   "metadata": {},
   "outputs": [
    {
     "data": {
      "text/plain": [
       "4.5"
      ]
     },
     "execution_count": 42,
     "metadata": {},
     "output_type": "execute_result"
    }
   ],
   "source": [
    "# Answer\n",
    "quakes.Magnitude.median()"
   ]
  },
  {
   "cell_type": "markdown",
   "metadata": {},
   "source": [
    "b. What is the correlation between magnitude and depth?"
   ]
  },
  {
   "cell_type": "code",
   "execution_count": 43,
   "metadata": {},
   "outputs": [],
   "source": [
    "# Use the .corr() method on the entire DF to give correlations between all columns. "
   ]
  },
  {
   "cell_type": "code",
   "execution_count": 44,
   "metadata": {},
   "outputs": [
    {
     "data": {
      "text/html": [
       "<div>\n",
       "<style scoped>\n",
       "    .dataframe tbody tr th:only-of-type {\n",
       "        vertical-align: middle;\n",
       "    }\n",
       "\n",
       "    .dataframe tbody tr th {\n",
       "        vertical-align: top;\n",
       "    }\n",
       "\n",
       "    .dataframe thead th {\n",
       "        text-align: right;\n",
       "    }\n",
       "</style>\n",
       "<table border=\"1\" class=\"dataframe\">\n",
       "  <thead>\n",
       "    <tr style=\"text-align: right;\">\n",
       "      <th></th>\n",
       "      <th>Latitude</th>\n",
       "      <th>Longitude</th>\n",
       "      <th>Depth</th>\n",
       "      <th>Magnitude</th>\n",
       "      <th>NbStations</th>\n",
       "      <th>Gap</th>\n",
       "      <th>Distance</th>\n",
       "      <th>RMS</th>\n",
       "      <th>Version</th>\n",
       "    </tr>\n",
       "  </thead>\n",
       "  <tbody>\n",
       "    <tr>\n",
       "      <th>Latitude</th>\n",
       "      <td>1.000000</td>\n",
       "      <td>0.151126</td>\n",
       "      <td>-0.152737</td>\n",
       "      <td>-0.094021</td>\n",
       "      <td>0.169994</td>\n",
       "      <td>-0.002338</td>\n",
       "      <td>NaN</td>\n",
       "      <td>-0.059844</td>\n",
       "      <td>0.028847</td>\n",
       "    </tr>\n",
       "    <tr>\n",
       "      <th>Longitude</th>\n",
       "      <td>0.151126</td>\n",
       "      <td>1.000000</td>\n",
       "      <td>-0.056669</td>\n",
       "      <td>0.094502</td>\n",
       "      <td>-0.062045</td>\n",
       "      <td>-0.158388</td>\n",
       "      <td>NaN</td>\n",
       "      <td>-0.162260</td>\n",
       "      <td>-0.031297</td>\n",
       "    </tr>\n",
       "    <tr>\n",
       "      <th>Depth</th>\n",
       "      <td>-0.152737</td>\n",
       "      <td>-0.056669</td>\n",
       "      <td>1.000000</td>\n",
       "      <td>0.029175</td>\n",
       "      <td>0.130701</td>\n",
       "      <td>-0.132728</td>\n",
       "      <td>NaN</td>\n",
       "      <td>-0.100127</td>\n",
       "      <td>-0.014670</td>\n",
       "    </tr>\n",
       "    <tr>\n",
       "      <th>Magnitude</th>\n",
       "      <td>-0.094021</td>\n",
       "      <td>0.094502</td>\n",
       "      <td>0.029175</td>\n",
       "      <td>1.000000</td>\n",
       "      <td>0.703717</td>\n",
       "      <td>-0.523315</td>\n",
       "      <td>NaN</td>\n",
       "      <td>-0.012080</td>\n",
       "      <td>0.106513</td>\n",
       "    </tr>\n",
       "    <tr>\n",
       "      <th>NbStations</th>\n",
       "      <td>0.169994</td>\n",
       "      <td>-0.062045</td>\n",
       "      <td>0.130701</td>\n",
       "      <td>0.703717</td>\n",
       "      <td>1.000000</td>\n",
       "      <td>-0.483381</td>\n",
       "      <td>NaN</td>\n",
       "      <td>-0.080913</td>\n",
       "      <td>0.114673</td>\n",
       "    </tr>\n",
       "    <tr>\n",
       "      <th>Gap</th>\n",
       "      <td>-0.002338</td>\n",
       "      <td>-0.158388</td>\n",
       "      <td>-0.132728</td>\n",
       "      <td>-0.523315</td>\n",
       "      <td>-0.483381</td>\n",
       "      <td>1.000000</td>\n",
       "      <td>NaN</td>\n",
       "      <td>-0.010979</td>\n",
       "      <td>-0.030786</td>\n",
       "    </tr>\n",
       "    <tr>\n",
       "      <th>Distance</th>\n",
       "      <td>NaN</td>\n",
       "      <td>NaN</td>\n",
       "      <td>NaN</td>\n",
       "      <td>NaN</td>\n",
       "      <td>NaN</td>\n",
       "      <td>NaN</td>\n",
       "      <td>NaN</td>\n",
       "      <td>NaN</td>\n",
       "      <td>NaN</td>\n",
       "    </tr>\n",
       "    <tr>\n",
       "      <th>RMS</th>\n",
       "      <td>-0.059844</td>\n",
       "      <td>-0.162260</td>\n",
       "      <td>-0.100127</td>\n",
       "      <td>-0.012080</td>\n",
       "      <td>-0.080913</td>\n",
       "      <td>-0.010979</td>\n",
       "      <td>NaN</td>\n",
       "      <td>1.000000</td>\n",
       "      <td>0.018472</td>\n",
       "    </tr>\n",
       "    <tr>\n",
       "      <th>Version</th>\n",
       "      <td>0.028847</td>\n",
       "      <td>-0.031297</td>\n",
       "      <td>-0.014670</td>\n",
       "      <td>0.106513</td>\n",
       "      <td>0.114673</td>\n",
       "      <td>-0.030786</td>\n",
       "      <td>NaN</td>\n",
       "      <td>0.018472</td>\n",
       "      <td>1.000000</td>\n",
       "    </tr>\n",
       "  </tbody>\n",
       "</table>\n",
       "</div>"
      ],
      "text/plain": [
       "            Latitude  Longitude     Depth  Magnitude  NbStations       Gap  \\\n",
       "Latitude    1.000000   0.151126 -0.152737  -0.094021    0.169994 -0.002338   \n",
       "Longitude   0.151126   1.000000 -0.056669   0.094502   -0.062045 -0.158388   \n",
       "Depth      -0.152737  -0.056669  1.000000   0.029175    0.130701 -0.132728   \n",
       "Magnitude  -0.094021   0.094502  0.029175   1.000000    0.703717 -0.523315   \n",
       "NbStations  0.169994  -0.062045  0.130701   0.703717    1.000000 -0.483381   \n",
       "Gap        -0.002338  -0.158388 -0.132728  -0.523315   -0.483381  1.000000   \n",
       "Distance         NaN        NaN       NaN        NaN         NaN       NaN   \n",
       "RMS        -0.059844  -0.162260 -0.100127  -0.012080   -0.080913 -0.010979   \n",
       "Version     0.028847  -0.031297 -0.014670   0.106513    0.114673 -0.030786   \n",
       "\n",
       "            Distance       RMS   Version  \n",
       "Latitude         NaN -0.059844  0.028847  \n",
       "Longitude        NaN -0.162260 -0.031297  \n",
       "Depth            NaN -0.100127 -0.014670  \n",
       "Magnitude        NaN -0.012080  0.106513  \n",
       "NbStations       NaN -0.080913  0.114673  \n",
       "Gap              NaN -0.010979 -0.030786  \n",
       "Distance         NaN       NaN       NaN  \n",
       "RMS              NaN  1.000000  0.018472  \n",
       "Version          NaN  0.018472  1.000000  "
      ]
     },
     "execution_count": 44,
     "metadata": {},
     "output_type": "execute_result"
    }
   ],
   "source": [
    "quakes.corr()"
   ]
  },
  {
   "cell_type": "code",
   "execution_count": 45,
   "metadata": {},
   "outputs": [
    {
     "data": {
      "text/plain": [
       "0.02917515915997664"
      ]
     },
     "execution_count": 45,
     "metadata": {},
     "output_type": "execute_result"
    }
   ],
   "source": [
    "# Or use corr() between two columns only. \n",
    "quakes.Depth.corr(quakes.Magnitude)"
   ]
  },
  {
   "cell_type": "markdown",
   "metadata": {},
   "source": [
    "c. What fraction (not count) of earthquakes happen each month, across all years (i.e. all earthquakes occurring in January as a proportion of the grand total, all earthquakes in February as a proportion of the grand total, etc.)?"
   ]
  },
  {
   "cell_type": "markdown",
   "metadata": {},
   "source": [
    "Need to count the quakes that happened each month then divide each count by the total number of quakes. First, need to find the month for each quake. Only need the month from the dates."
   ]
  },
  {
   "cell_type": "code",
   "execution_count": 46,
   "metadata": {},
   "outputs": [],
   "source": [
    "quakes['Month'] = quakes.DateTime.apply(lambda x: x.month)"
   ]
  },
  {
   "cell_type": "code",
   "execution_count": 47,
   "metadata": {},
   "outputs": [
    {
     "data": {
      "text/html": [
       "<div>\n",
       "<style scoped>\n",
       "    .dataframe tbody tr th:only-of-type {\n",
       "        vertical-align: middle;\n",
       "    }\n",
       "\n",
       "    .dataframe tbody tr th {\n",
       "        vertical-align: top;\n",
       "    }\n",
       "\n",
       "    .dataframe thead th {\n",
       "        text-align: right;\n",
       "    }\n",
       "</style>\n",
       "<table border=\"1\" class=\"dataframe\">\n",
       "  <thead>\n",
       "    <tr style=\"text-align: right;\">\n",
       "      <th></th>\n",
       "      <th>DateTime</th>\n",
       "      <th>Latitude</th>\n",
       "      <th>Longitude</th>\n",
       "      <th>Depth</th>\n",
       "      <th>Magnitude</th>\n",
       "      <th>MagType</th>\n",
       "      <th>NbStations</th>\n",
       "      <th>Gap</th>\n",
       "      <th>Distance</th>\n",
       "      <th>RMS</th>\n",
       "      <th>Source</th>\n",
       "      <th>EventID</th>\n",
       "      <th>Version</th>\n",
       "      <th>Month</th>\n",
       "    </tr>\n",
       "  </thead>\n",
       "  <tbody>\n",
       "    <tr>\n",
       "      <th>0</th>\n",
       "      <td>2012-01-01 00:30:08.770000+00:00</td>\n",
       "      <td>12.008</td>\n",
       "      <td>143.487</td>\n",
       "      <td>35.0</td>\n",
       "      <td>5.1</td>\n",
       "      <td>mb</td>\n",
       "      <td>178</td>\n",
       "      <td>45</td>\n",
       "      <td>NaN</td>\n",
       "      <td>1.20</td>\n",
       "      <td>pde</td>\n",
       "      <td>pde20120101003008770_35</td>\n",
       "      <td>1363392487731</td>\n",
       "      <td>1</td>\n",
       "    </tr>\n",
       "    <tr>\n",
       "      <th>1</th>\n",
       "      <td>2012-01-01 00:43:42.770000+00:00</td>\n",
       "      <td>12.014</td>\n",
       "      <td>143.536</td>\n",
       "      <td>35.0</td>\n",
       "      <td>4.4</td>\n",
       "      <td>mb</td>\n",
       "      <td>29</td>\n",
       "      <td>121</td>\n",
       "      <td>NaN</td>\n",
       "      <td>0.98</td>\n",
       "      <td>pde</td>\n",
       "      <td>pde20120101004342770_35</td>\n",
       "      <td>1363392488431</td>\n",
       "      <td>1</td>\n",
       "    </tr>\n",
       "    <tr>\n",
       "      <th>2</th>\n",
       "      <td>2012-01-01 00:50:08.040000+00:00</td>\n",
       "      <td>-11.366</td>\n",
       "      <td>166.218</td>\n",
       "      <td>67.5</td>\n",
       "      <td>5.3</td>\n",
       "      <td>mb</td>\n",
       "      <td>143</td>\n",
       "      <td>43</td>\n",
       "      <td>NaN</td>\n",
       "      <td>0.82</td>\n",
       "      <td>pde</td>\n",
       "      <td>pde20120101005008040_67</td>\n",
       "      <td>1363392488479</td>\n",
       "      <td>1</td>\n",
       "    </tr>\n",
       "    <tr>\n",
       "      <th>3</th>\n",
       "      <td>2012-01-01 01:22:07.660000+00:00</td>\n",
       "      <td>-6.747</td>\n",
       "      <td>130.008</td>\n",
       "      <td>145.0</td>\n",
       "      <td>4.2</td>\n",
       "      <td>mb</td>\n",
       "      <td>14</td>\n",
       "      <td>112</td>\n",
       "      <td>NaN</td>\n",
       "      <td>1.16</td>\n",
       "      <td>pde</td>\n",
       "      <td>pde20120101012207660_145</td>\n",
       "      <td>1363392488594</td>\n",
       "      <td>1</td>\n",
       "    </tr>\n",
       "    <tr>\n",
       "      <th>4</th>\n",
       "      <td>2012-01-01 02:35:21.110000+00:00</td>\n",
       "      <td>23.472</td>\n",
       "      <td>91.834</td>\n",
       "      <td>27.8</td>\n",
       "      <td>4.6</td>\n",
       "      <td>mb</td>\n",
       "      <td>74</td>\n",
       "      <td>77</td>\n",
       "      <td>NaN</td>\n",
       "      <td>0.65</td>\n",
       "      <td>pde</td>\n",
       "      <td>pde20120101023521110_27</td>\n",
       "      <td>1363392488611</td>\n",
       "      <td>1</td>\n",
       "    </tr>\n",
       "  </tbody>\n",
       "</table>\n",
       "</div>"
      ],
      "text/plain": [
       "                          DateTime  Latitude  Longitude  Depth  Magnitude  \\\n",
       "0 2012-01-01 00:30:08.770000+00:00    12.008    143.487   35.0        5.1   \n",
       "1 2012-01-01 00:43:42.770000+00:00    12.014    143.536   35.0        4.4   \n",
       "2 2012-01-01 00:50:08.040000+00:00   -11.366    166.218   67.5        5.3   \n",
       "3 2012-01-01 01:22:07.660000+00:00    -6.747    130.008  145.0        4.2   \n",
       "4 2012-01-01 02:35:21.110000+00:00    23.472     91.834   27.8        4.6   \n",
       "\n",
       "  MagType  NbStations  Gap  Distance   RMS Source                   EventID  \\\n",
       "0      mb         178   45       NaN  1.20    pde   pde20120101003008770_35   \n",
       "1      mb          29  121       NaN  0.98    pde   pde20120101004342770_35   \n",
       "2      mb         143   43       NaN  0.82    pde   pde20120101005008040_67   \n",
       "3      mb          14  112       NaN  1.16    pde  pde20120101012207660_145   \n",
       "4      mb          74   77       NaN  0.65    pde   pde20120101023521110_27   \n",
       "\n",
       "         Version  Month  \n",
       "0  1363392487731      1  \n",
       "1  1363392488431      1  \n",
       "2  1363392488479      1  \n",
       "3  1363392488594      1  \n",
       "4  1363392488611      1  "
      ]
     },
     "execution_count": 47,
     "metadata": {},
     "output_type": "execute_result"
    }
   ],
   "source": [
    "quakes.head()"
   ]
  },
  {
   "cell_type": "markdown",
   "metadata": {},
   "source": [
    "Use the groupby() to group by month. Count entries with len and get some column counts"
   ]
  },
  {
   "cell_type": "code",
   "execution_count": 48,
   "metadata": {},
   "outputs": [],
   "source": [
    "monthly_counts = quakes.groupby(\"Month\").aggregate(len)[\"Latitude\"]"
   ]
  },
  {
   "cell_type": "code",
   "execution_count": 49,
   "metadata": {},
   "outputs": [
    {
     "data": {
      "text/plain": [
       "Month\n",
       "1     1024.0\n",
       "2     1081.0\n",
       "3     1145.0\n",
       "4     1393.0\n",
       "5     1058.0\n",
       "6      900.0\n",
       "7      882.0\n",
       "8     1022.0\n",
       "9     1132.0\n",
       "10    1051.0\n",
       "11     996.0\n",
       "12    1000.0\n",
       "Name: Latitude, dtype: float64"
      ]
     },
     "execution_count": 49,
     "metadata": {},
     "output_type": "execute_result"
    }
   ],
   "source": [
    "monthly_counts"
   ]
  },
  {
   "cell_type": "code",
   "execution_count": 50,
   "metadata": {},
   "outputs": [],
   "source": [
    "# Now divide the counts series by the series sum. \n",
    "\n",
    "monthly_fractions = monthly_counts / (1.0 * monthly_counts.sum())"
   ]
  },
  {
   "cell_type": "code",
   "execution_count": 51,
   "metadata": {},
   "outputs": [
    {
     "data": {
      "text/plain": [
       "Month\n",
       "1     0.080732\n",
       "2     0.085225\n",
       "3     0.090271\n",
       "4     0.109823\n",
       "5     0.083412\n",
       "6     0.070956\n",
       "7     0.069536\n",
       "8     0.080574\n",
       "9     0.089246\n",
       "10    0.082860\n",
       "11    0.078524\n",
       "12    0.078839\n",
       "Name: Latitude, dtype: float64"
      ]
     },
     "execution_count": 51,
     "metadata": {},
     "output_type": "execute_result"
    }
   ],
   "source": [
    "monthly_fractions"
   ]
  },
  {
   "cell_type": "markdown",
   "metadata": {},
   "source": [
    "d. Is there correlation between the number of movies released monthly (i.e. Jan-1990, Feb-1990... ) , and the number of earthquakes in that month?"
   ]
  },
  {
   "cell_type": "markdown",
   "metadata": {},
   "source": [
    "Need to count both movies and quakes across all calendar months, or month-year combinations. Then we need to correlate the resulting series to each other. "
   ]
  },
  {
   "cell_type": "code",
   "execution_count": 52,
   "metadata": {},
   "outputs": [],
   "source": [
    "# A function that accepts a date and returns the first day of the month. \n",
    "# This way all date-times in that month map to a common date. \n",
    "\n",
    "def make_month(date):\n",
    "    return dt.datetime(year=date.year, month=date.month, day=1)"
   ]
  },
  {
   "cell_type": "code",
   "execution_count": 53,
   "metadata": {},
   "outputs": [],
   "source": [
    "# Now use the function on both Movies and Quake datasets and get monthly count Series."
   ]
  },
  {
   "cell_type": "code",
   "execution_count": 54,
   "metadata": {},
   "outputs": [],
   "source": [
    "movies['Month'] = movies.Release_Date.apply(make_month)"
   ]
  },
  {
   "cell_type": "code",
   "execution_count": 55,
   "metadata": {},
   "outputs": [],
   "source": [
    "quakes['Month'] = quakes.DateTime.apply(make_month)"
   ]
  },
  {
   "cell_type": "code",
   "execution_count": 56,
   "metadata": {},
   "outputs": [],
   "source": [
    "movies_per_month = movies.groupby(\"Month\")[\"Movie\"].aggregate(len)"
   ]
  },
  {
   "cell_type": "code",
   "execution_count": 57,
   "metadata": {},
   "outputs": [],
   "source": [
    "quakes_per_month = quakes.groupby(\"Month\")[\"MagType\"].aggregate(len)"
   ]
  },
  {
   "cell_type": "code",
   "execution_count": 58,
   "metadata": {},
   "outputs": [
    {
     "data": {
      "text/plain": [
       "Month\n",
       "2012-01-01    1005\n",
       "2012-02-01    1081\n",
       "2012-03-01    1145\n",
       "2012-04-01    1393\n",
       "2012-05-01    1058\n",
       "2012-06-01     900\n",
       "2012-07-01     882\n",
       "2012-08-01    1022\n",
       "2012-09-01    1132\n",
       "2012-10-01    1051\n",
       "2012-11-01     996\n",
       "2012-12-01    1000\n",
       "2013-01-01      19\n",
       "Name: MagType, dtype: int64"
      ]
     },
     "execution_count": 58,
     "metadata": {},
     "output_type": "execute_result"
    }
   ],
   "source": [
    "quakes_per_month"
   ]
  },
  {
   "cell_type": "code",
   "execution_count": 59,
   "metadata": {},
   "outputs": [
    {
     "data": {
      "text/plain": [
       "Month\n",
       "1915-02-01     1\n",
       "1916-09-01     1\n",
       "1916-12-01     1\n",
       "1920-09-01     1\n",
       "1925-01-01     1\n",
       "1925-12-01     1\n",
       "1927-08-01     1\n",
       "1929-06-01     1\n",
       "1930-01-01     1\n",
       "1931-12-01     1\n",
       "1933-02-01     1\n",
       "1933-03-01     1\n",
       "1933-04-01     1\n",
       "1934-01-01     1\n",
       "1935-09-01     1\n",
       "1936-02-01     1\n",
       "1936-06-01     1\n",
       "1936-10-01     1\n",
       "1937-12-01     1\n",
       "1938-01-01     2\n",
       "1939-01-01     2\n",
       "1939-12-01     1\n",
       "1940-01-01     2\n",
       "1940-11-01     1\n",
       "1941-10-01     1\n",
       "1942-11-01     1\n",
       "1943-01-01     1\n",
       "1943-12-01     1\n",
       "1944-01-01     1\n",
       "1944-08-01     1\n",
       "              ..\n",
       "2010-05-01    13\n",
       "2010-06-01    18\n",
       "2010-07-01    14\n",
       "2010-08-01    12\n",
       "2010-09-01    15\n",
       "2010-10-01    24\n",
       "2010-11-01    16\n",
       "2010-12-01    25\n",
       "2011-01-01     7\n",
       "2011-02-01     4\n",
       "2011-03-01    11\n",
       "2011-04-01    15\n",
       "2011-05-01    16\n",
       "2011-06-01    10\n",
       "2011-07-01    14\n",
       "2011-08-01    21\n",
       "2011-09-01    20\n",
       "2011-10-01    14\n",
       "2011-11-01    13\n",
       "2011-12-01     9\n",
       "2012-01-01    11\n",
       "2012-02-01     5\n",
       "2012-03-01     7\n",
       "2012-04-01     1\n",
       "2012-05-01     1\n",
       "2012-06-01     2\n",
       "2012-07-01     1\n",
       "2012-11-01     1\n",
       "2012-12-01     1\n",
       "2013-12-01     1\n",
       "Name: Movie, Length: 557, dtype: int64"
      ]
     },
     "execution_count": 59,
     "metadata": {},
     "output_type": "execute_result"
    }
   ],
   "source": [
    "movies_per_month"
   ]
  },
  {
   "cell_type": "code",
   "execution_count": 60,
   "metadata": {},
   "outputs": [
    {
     "data": {
      "text/plain": [
       "0.016073604515738773"
      ]
     },
     "execution_count": 60,
     "metadata": {},
     "output_type": "execute_result"
    }
   ],
   "source": [
    "quakes_per_month.corr(movies_per_month)"
   ]
  },
  {
   "cell_type": "code",
   "execution_count": null,
   "metadata": {},
   "outputs": [],
   "source": []
  }
 ],
 "metadata": {
  "anaconda-cloud": {},
  "kernelspec": {
   "display_name": "Python 3",
   "language": "python",
   "name": "python3"
  },
  "language_info": {
   "codemirror_mode": {
    "name": "ipython",
    "version": 3
   },
   "file_extension": ".py",
   "mimetype": "text/x-python",
   "name": "python",
   "nbconvert_exporter": "python",
   "pygments_lexer": "ipython3",
   "version": "3.7.3"
  }
 },
 "nbformat": 4,
 "nbformat_minor": 4
}
